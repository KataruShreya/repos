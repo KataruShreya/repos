{
 "cells": [
  {
   "cell_type": "markdown",
   "id": "60c68c10-63e1-4393-bd4a-8fd917f68fc1",
   "metadata": {
    "tags": []
   },
   "source": [
    "# H1:  Data Science Tools and Ecosystem"
   ]
  },
  {
   "cell_type": "markdown",
   "id": "047f0806-8605-40c0-ab4c-7c35efa5e198",
   "metadata": {
    "tags": []
   },
   "source": [
    "In this notebook, Data Science Tools and Ecosystem are summarized."
   ]
  },
  {
   "cell_type": "markdown",
   "id": "2c1be5ec-2519-4d92-9de5-669cda851efd",
   "metadata": {
    "tags": []
   },
   "source": [
    "Some of the popular languages that Data Scientists use are:\n",
    "1. Python\n",
    "2. R\n",
    "3. JAVA"
   ]
  },
  {
   "cell_type": "markdown",
   "id": "41b8d1cb-56bf-4db0-aea2-fc34e2053404",
   "metadata": {},
   "source": [
    "Some of the commonly used libraries used by Data Scientists include:\n",
    "1. Pandas\n",
    "2. NumPy\n",
    "3. Matplotlib"
   ]
  },
  {
   "cell_type": "markdown",
   "id": "5f957e74-c1f6-4d01-9e96-b8d4238e5fb3",
   "metadata": {
    "tags": []
   },
   "source": [
    "|Data Science Tools|\n",
    "-----------------------------\n",
    "Apache Hadoop\n",
    "Apache Hive\n",
    "Apache Spark\n",
    "MySQL\n",
    "MongoDB\n",
    "Microsoft Visual Studio Code\n",
    "Jupyter Notebook"
   ]
  },
  {
   "cell_type": "markdown",
   "id": "37a1b917-8526-4d07-92d0-e8808fb76317",
   "metadata": {},
   "source": [
    "### H3: Below are a few examples of evaluating arithmetic expressions in Python\n",
    "1. 2+3         i.e addition\n",
    "2. 4-2         i.e subtraction\n",
    "3. 3*7         i.e multiplication\n",
    "4. 8/4         i.e division"
   ]
  },
  {
   "cell_type": "code",
   "execution_count": 5,
   "id": "6cef7dae-9a5d-4a34-80e4-6ac4bd332c9d",
   "metadata": {
    "tags": []
   },
   "outputs": [
    {
     "data": {
      "text/plain": [
       "17"
      ]
     },
     "execution_count": 5,
     "metadata": {},
     "output_type": "execute_result"
    }
   ],
   "source": [
    "#this a simple arithmetic expression to mutiply then add integers\n",
    "(3*4)+5"
   ]
  },
  {
   "cell_type": "code",
   "execution_count": 6,
   "id": "3460e382-2be0-4bf3-968d-8c1683f24688",
   "metadata": {
    "tags": []
   },
   "outputs": [
    {
     "name": "stdout",
     "output_type": "stream",
     "text": [
      "3.3333333333333335 hours\n"
     ]
    }
   ],
   "source": [
    "#This will convert 200 minutes to hours by diving by 60\n",
    "x = 200/60\n",
    "print(x,'hours')"
   ]
  },
  {
   "cell_type": "code",
   "execution_count": null,
   "id": "658e80be-ffb6-4fbe-9fcb-85cf9da9f5f2",
   "metadata": {},
   "outputs": [],
   "source": []
  }
 ],
 "metadata": {
  "kernelspec": {
   "display_name": "Python",
   "language": "python",
   "name": "conda-env-python-py"
  },
  "language_info": {
   "codemirror_mode": {
    "name": "ipython",
    "version": 3
   },
   "file_extension": ".py",
   "mimetype": "text/x-python",
   "name": "python",
   "nbconvert_exporter": "python",
   "pygments_lexer": "ipython3",
   "version": "3.7.12"
  }
 },
 "nbformat": 4,
 "nbformat_minor": 5
}
